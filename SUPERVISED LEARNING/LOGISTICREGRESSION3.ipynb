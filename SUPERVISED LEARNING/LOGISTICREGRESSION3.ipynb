{
 "cells": [
  {
   "cell_type": "code",
   "execution_count": 23,
   "id": "1a7ba107-8f0d-481d-8ea9-e8f3adb3a8b7",
   "metadata": {},
   "outputs": [],
   "source": [
    "import pandas as pd\n",
    "import matplotlib.pyplot as plt \n",
    "from sklearn.datasets import load_iris"
   ]
  },
  {
   "cell_type": "code",
   "execution_count": 24,
   "id": "5b0cc318-6a51-430a-ae40-1fe07902b756",
   "metadata": {},
   "outputs": [
    {
     "data": {
      "text/plain": [
       "['DESCR',\n",
       " 'data',\n",
       " 'data_module',\n",
       " 'feature_names',\n",
       " 'filename',\n",
       " 'frame',\n",
       " 'target',\n",
       " 'target_names']"
      ]
     },
     "execution_count": 24,
     "metadata": {},
     "output_type": "execute_result"
    }
   ],
   "source": [
    "dataset = load_iris()\n",
    "dir(dataset)\n",
    "#dataset.data[1]"
   ]
  },
  {
   "cell_type": "code",
   "execution_count": 25,
   "id": "9a676bbe-41ed-422e-bba7-7f8f55b64884",
   "metadata": {},
   "outputs": [],
   "source": [
    "X = dataset.data\n",
    "y = dataset.target"
   ]
  },
  {
   "cell_type": "code",
   "execution_count": 26,
   "id": "c6b64358-9e41-4c8c-a141-5b58b351e708",
   "metadata": {},
   "outputs": [],
   "source": [
    "featurename = dataset.feature_names\n",
    "targetname = dataset.target_names"
   ]
  },
  {
   "cell_type": "code",
   "execution_count": 27,
   "id": "ffd16bae-eccf-4d95-83dd-7cb8bd3453a1",
   "metadata": {},
   "outputs": [
    {
     "name": "stdout",
     "output_type": "stream",
     "text": [
      "Feature name  ['sepal length (cm)', 'sepal width (cm)', 'petal length (cm)', 'petal width (cm)']\n",
      "Target name  ['setosa' 'versicolor' 'virginica']\n",
      "TOTAL SAMPLES  150\n",
      "NUMBER OF FEATURES  4\n"
     ]
    }
   ],
   "source": [
    "print(\"Feature name \" , featurename)\n",
    "print(\"Target name \",targetname)\n",
    "print(\"TOTAL SAMPLES \", len(X))\n",
    "print(\"NUMBER OF FEATURES \", len(featurename))\n"
   ]
  },
  {
   "cell_type": "code",
   "execution_count": 28,
   "id": "499de2ff-f01d-40a7-bdbb-6ef4c51b6e51",
   "metadata": {},
   "outputs": [],
   "source": [
    "from sklearn.model_selection import train_test_split\n",
    "from sklearn.linear_model import LogisticRegression\n",
    "model = LogisticRegression()\n"
   ]
  },
  {
   "cell_type": "code",
   "execution_count": 29,
   "id": "59cbecfc-521f-4568-aca8-83a8587e9150",
   "metadata": {},
   "outputs": [],
   "source": [
    "X_train,X_test,y_train,y_test = train_test_split(X,y,test_size = 0.2,random_state = 35)"
   ]
  },
  {
   "cell_type": "code",
   "execution_count": 30,
   "id": "2e803c17-a413-4e20-9e62-9c856df0927f",
   "metadata": {},
   "outputs": [
    {
     "data": {
      "text/plain": [
       "1.0"
      ]
     },
     "execution_count": 30,
     "metadata": {},
     "output_type": "execute_result"
    }
   ],
   "source": [
    "model.fit(X_train,y_train)\n",
    "model.score(X_test,y_test)"
   ]
  }
 ],
 "metadata": {
  "kernelspec": {
   "display_name": "Python 3 (ipykernel)",
   "language": "python",
   "name": "python3"
  },
  "language_info": {
   "codemirror_mode": {
    "name": "ipython",
    "version": 3
   },
   "file_extension": ".py",
   "mimetype": "text/x-python",
   "name": "python",
   "nbconvert_exporter": "python",
   "pygments_lexer": "ipython3",
   "version": "3.11.7"
  }
 },
 "nbformat": 4,
 "nbformat_minor": 5
}

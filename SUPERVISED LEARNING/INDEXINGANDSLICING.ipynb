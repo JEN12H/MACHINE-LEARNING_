{
 "cells": [
  {
   "cell_type": "code",
   "execution_count": 1,
   "id": "a8552d4a-481a-41df-98be-ad0dc21f0862",
   "metadata": {},
   "outputs": [],
   "source": [
    "# INDEXING AND SLICING "
   ]
  },
  {
   "cell_type": "code",
   "execution_count": 4,
   "id": "a21f4239-f08c-4ead-bcc6-cfdc637eedb6",
   "metadata": {},
   "outputs": [
    {
     "name": "stdout",
     "output_type": "stream",
     "text": [
      "[[4 5 6]\n",
      " [7 8 9]]\n",
      "7\n",
      "9\n"
     ]
    }
   ],
   "source": [
    "import numpy as np \n",
    "var1 = np.array([[4,5,6],[7,8,9]])\n",
    "print(var1)\n",
    "print(var1[1,0])\n",
    "print(var1[1,2])"
   ]
  },
  {
   "cell_type": "code",
   "execution_count": 8,
   "id": "5d71a1bf-2fcb-4bbf-8419-05a4689eadad",
   "metadata": {},
   "outputs": [
    {
     "name": "stdout",
     "output_type": "stream",
     "text": [
      "[[[ 1  2]\n",
      "  [ 3  4]\n",
      "  [ 5  6]]\n",
      "\n",
      " [[ 7  8]\n",
      "  [ 8  9]\n",
      "  [ 9 10]]]\n",
      "6\n",
      "8\n"
     ]
    }
   ],
   "source": [
    "var2 = np.array([[[1,2],[3,4],[5,6]],\n",
    "                [[7,8],[8,9],[9,10]]])\n",
    "print(var2)\n",
    "print(var2[0,2,1])\n",
    "print(var2[1,1,0])"
   ]
  },
  {
   "cell_type": "code",
   "execution_count": 23,
   "id": "a1f90bcd-0e58-4d52-bcc1-067288d13616",
   "metadata": {},
   "outputs": [
    {
     "name": "stdout",
     "output_type": "stream",
     "text": [
      "[1 2 3 4 5 6]\n",
      "[1 2 3 4 5 6]\n",
      "[3 5 7]\n"
     ]
    }
   ],
   "source": [
    "# SLICING PARAMETERS \n",
    "# ARRAY[ START : STOP : STEP]\n",
    "var3 = np.array([1,2,3,4,5,6,7])\n",
    "print(var3[0:6])\n",
    "print(var3[0:-1])\n",
    "print(var3[2:7:2])"
   ]
  },
  {
   "cell_type": "code",
   "execution_count": 28,
   "id": "846b994a-df58-4593-9910-cf68a0d383b4",
   "metadata": {},
   "outputs": [
    {
     "name": "stdout",
     "output_type": "stream",
     "text": [
      "[[1 2 3 4]\n",
      " [4 5 6 7]\n",
      " [7 8 9 0]]\n",
      "[2]\n",
      "[8 9]\n",
      "[4 5 6 7]\n"
     ]
    }
   ],
   "source": [
    "# FOR 2-D ARRAYS \n",
    "var4 = np.array([[1,2,3,4],[4,5,6,7],[7,8,9,0]])\n",
    "print(var4)\n",
    "print(var4[0,1:2])\n",
    "print(var4[2,1:3])\n",
    "print(var4[1,0:4])"
   ]
  },
  {
   "cell_type": "code",
   "execution_count": 30,
   "id": "100e6a3a-3ea9-418d-b8a6-0caf1748e567",
   "metadata": {},
   "outputs": [
    {
     "name": "stdout",
     "output_type": "stream",
     "text": [
      "[[[1 2 3 4 5]\n",
      "  [5 6 7 8 9]]]\n",
      "3\n",
      "1\n",
      "2\n",
      "3\n",
      "4\n",
      "5\n",
      "5\n",
      "6\n",
      "7\n",
      "8\n",
      "9\n"
     ]
    }
   ],
   "source": [
    "# NITERATOR \n",
    "var5 = np.array([[[1,2,3,4,5],[5,6,7,8,9]]])\n",
    "print(var5)\n",
    "print(var5.ndim)\n",
    "for i in np.nditer(var5):\n",
    "    print(i)"
   ]
  },
  {
   "cell_type": "code",
   "execution_count": 31,
   "id": "51e6e677-9fe8-497e-afe1-59d4d75c6961",
   "metadata": {},
   "outputs": [
    {
     "name": "stdout",
     "output_type": "stream",
     "text": [
      "[[[1 2 3 4 5]\n",
      "  [5 6 7 8 9]]]\n",
      "3\n",
      "(0, 0, 0) 1\n",
      "(0, 0, 1) 2\n",
      "(0, 0, 2) 3\n",
      "(0, 0, 3) 4\n",
      "(0, 0, 4) 5\n",
      "(0, 1, 0) 5\n",
      "(0, 1, 1) 6\n",
      "(0, 1, 2) 7\n",
      "(0, 1, 3) 8\n",
      "(0, 1, 4) 9\n"
     ]
    }
   ],
   "source": [
    "var6 = np.array([[[1,2,3,4,5],[5,6,7,8,9]]])\n",
    "print(var6)\n",
    "print(var6.ndim)\n",
    "for i,d in np.ndenumerate(var6):\n",
    "    print(i,d)"
   ]
  },
  {
   "cell_type": "code",
   "execution_count": 37,
   "id": "ea473176-b6c4-4111-9c0c-2b6fa72ebf7e",
   "metadata": {},
   "outputs": [
    {
     "name": "stdout",
     "output_type": "stream",
     "text": [
      "[1 2 3 4 5]\n",
      "[1 2 8 4 5]\n"
     ]
    }
   ],
   "source": [
    "var7 = np.array([1,2,3,4,5])\n",
    "var8 = var7.copy() # COPY DOES NOT CHANGE ORGIGINAL DATA . IT OWNS THE DATA \n",
    "print(var8)\n",
    "var7[2] = 8\n",
    "var8 = var7.copy()\n",
    "var9 = var7.view() # VIEW CHANGES ORIGINAL DATA . IT DOES OWNS THE DATA \n",
    "print(var9)"
   ]
  },
  {
   "cell_type": "code",
   "execution_count": null,
   "id": "46f55cfb-13f9-42b1-bbea-35192bb7f3e1",
   "metadata": {},
   "outputs": [],
   "source": []
  }
 ],
 "metadata": {
  "kernelspec": {
   "display_name": "Python 3 (ipykernel)",
   "language": "python",
   "name": "python3"
  },
  "language_info": {
   "codemirror_mode": {
    "name": "ipython",
    "version": 3
   },
   "file_extension": ".py",
   "mimetype": "text/x-python",
   "name": "python",
   "nbconvert_exporter": "python",
   "pygments_lexer": "ipython3",
   "version": "3.11.7"
  }
 },
 "nbformat": 4,
 "nbformat_minor": 5
}
